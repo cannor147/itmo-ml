{
 "cells": [
  {
   "cell_type": "markdown",
   "metadata": {},
   "source": [
    "# Preparing the dataset"
   ]
  },
  {
   "cell_type": "code",
   "execution_count": 1,
   "metadata": {},
   "outputs": [],
   "source": [
    "import pandas as pd\n",
    "import numpy as np\n",
    "import matplotlib.pyplot as plt\n",
    "import math"
   ]
  },
  {
   "cell_type": "markdown",
   "metadata": {},
   "source": [
    "## Data initializing\n",
    "\n",
    "Due to uselessness of `Speaker_Number` column we prefer to drop this information from our dataset."
   ]
  },
  {
   "cell_type": "code",
   "execution_count": 2,
   "metadata": {},
   "outputs": [
    {
     "data": {
      "text/html": [
       "<div>\n",
       "<style scoped>\n",
       "    .dataframe tbody tr th:only-of-type {\n",
       "        vertical-align: middle;\n",
       "    }\n",
       "\n",
       "    .dataframe tbody tr th {\n",
       "        vertical-align: top;\n",
       "    }\n",
       "\n",
       "    .dataframe thead th {\n",
       "        text-align: right;\n",
       "    }\n",
       "</style>\n",
       "<table border=\"1\" class=\"dataframe\">\n",
       "  <thead>\n",
       "    <tr style=\"text-align: right;\">\n",
       "      <th></th>\n",
       "      <th>Sex</th>\n",
       "      <th>Feature_0</th>\n",
       "      <th>Feature_1</th>\n",
       "      <th>Feature_2</th>\n",
       "      <th>Feature_3</th>\n",
       "      <th>Feature_4</th>\n",
       "      <th>Feature_5</th>\n",
       "      <th>Feature_6</th>\n",
       "      <th>Feature_7</th>\n",
       "      <th>Feature_8</th>\n",
       "      <th>Feature_9</th>\n",
       "      <th>Class</th>\n",
       "    </tr>\n",
       "  </thead>\n",
       "  <tbody>\n",
       "    <tr>\n",
       "      <th>0</th>\n",
       "      <td>Male</td>\n",
       "      <td>-3.639</td>\n",
       "      <td>0.418</td>\n",
       "      <td>-0.670</td>\n",
       "      <td>1.779</td>\n",
       "      <td>-0.168</td>\n",
       "      <td>1.627</td>\n",
       "      <td>-0.388</td>\n",
       "      <td>0.529</td>\n",
       "      <td>-0.874</td>\n",
       "      <td>-0.814</td>\n",
       "      <td>hid</td>\n",
       "    </tr>\n",
       "    <tr>\n",
       "      <th>1</th>\n",
       "      <td>Male</td>\n",
       "      <td>-3.327</td>\n",
       "      <td>0.496</td>\n",
       "      <td>-0.694</td>\n",
       "      <td>1.365</td>\n",
       "      <td>-0.265</td>\n",
       "      <td>1.933</td>\n",
       "      <td>-0.363</td>\n",
       "      <td>0.510</td>\n",
       "      <td>-0.621</td>\n",
       "      <td>-0.488</td>\n",
       "      <td>hId</td>\n",
       "    </tr>\n",
       "    <tr>\n",
       "      <th>2</th>\n",
       "      <td>Male</td>\n",
       "      <td>-2.120</td>\n",
       "      <td>0.894</td>\n",
       "      <td>-1.576</td>\n",
       "      <td>0.147</td>\n",
       "      <td>-0.707</td>\n",
       "      <td>1.559</td>\n",
       "      <td>-0.579</td>\n",
       "      <td>0.676</td>\n",
       "      <td>-0.809</td>\n",
       "      <td>-0.049</td>\n",
       "      <td>hEd</td>\n",
       "    </tr>\n",
       "    <tr>\n",
       "      <th>3</th>\n",
       "      <td>Male</td>\n",
       "      <td>-2.287</td>\n",
       "      <td>1.809</td>\n",
       "      <td>-1.498</td>\n",
       "      <td>1.012</td>\n",
       "      <td>-1.053</td>\n",
       "      <td>1.060</td>\n",
       "      <td>-0.567</td>\n",
       "      <td>0.235</td>\n",
       "      <td>-0.091</td>\n",
       "      <td>-0.795</td>\n",
       "      <td>hAd</td>\n",
       "    </tr>\n",
       "    <tr>\n",
       "      <th>4</th>\n",
       "      <td>Male</td>\n",
       "      <td>-2.598</td>\n",
       "      <td>1.938</td>\n",
       "      <td>-0.846</td>\n",
       "      <td>1.062</td>\n",
       "      <td>-1.633</td>\n",
       "      <td>0.764</td>\n",
       "      <td>0.394</td>\n",
       "      <td>-0.150</td>\n",
       "      <td>0.277</td>\n",
       "      <td>-0.396</td>\n",
       "      <td>hYd</td>\n",
       "    </tr>\n",
       "  </tbody>\n",
       "</table>\n",
       "</div>"
      ],
      "text/plain": [
       "    Sex  Feature_0  Feature_1  Feature_2  Feature_3  Feature_4  Feature_5  \\\n",
       "0  Male     -3.639      0.418     -0.670      1.779     -0.168      1.627   \n",
       "1  Male     -3.327      0.496     -0.694      1.365     -0.265      1.933   \n",
       "2  Male     -2.120      0.894     -1.576      0.147     -0.707      1.559   \n",
       "3  Male     -2.287      1.809     -1.498      1.012     -1.053      1.060   \n",
       "4  Male     -2.598      1.938     -0.846      1.062     -1.633      0.764   \n",
       "\n",
       "   Feature_6  Feature_7  Feature_8  Feature_9 Class  \n",
       "0     -0.388      0.529     -0.874     -0.814   hid  \n",
       "1     -0.363      0.510     -0.621     -0.488   hId  \n",
       "2     -0.579      0.676     -0.809     -0.049   hEd  \n",
       "3     -0.567      0.235     -0.091     -0.795   hAd  \n",
       "4      0.394     -0.150      0.277     -0.396   hYd  "
      ]
     },
     "execution_count": 2,
     "metadata": {},
     "output_type": "execute_result"
    }
   ],
   "source": [
    "data = pd.read_csv('../data/vowel.csv', sep = ',', header = 0)\n",
    "data.drop('Speaker_Number', axis = 1, inplace = True)\n",
    "data.head()"
   ]
  },
  {
   "cell_type": "markdown",
   "metadata": {},
   "source": [
    "## Filling in missing values\n",
    "\n",
    "Let's classify the type for each column in the dataset. This helps us to fill in the gaps and choose what to do with data."
   ]
  },
  {
   "cell_type": "code",
   "execution_count": 3,
   "metadata": {},
   "outputs": [
    {
     "name": "stdout",
     "output_type": "stream",
     "text": [
      "['Feature_0', 'Feature_1', 'Feature_2', 'Feature_3', 'Feature_4', 'Feature_5', 'Feature_6', 'Feature_7', 'Feature_8', 'Feature_9']\n",
      "['Sex']\n",
      "['Class']\n"
     ]
    }
   ],
   "source": [
    "data_description = data.describe(include=[object])\n",
    "numerical_features = [f for f in data.columns if data[f].dtype.name != 'object']\n",
    "categorical_features = [f for f in data.columns if data[f].dtype.name == 'object']\n",
    "binary_categorical_features = [f for f in categorical_features if data_description[f]['unique'] == 2]\n",
    "non_binary_categorical_features = [f for f in categorical_features if data_description[f]['unique'] > 2]\n",
    "print(numerical_features, binary_categorical_features, non_binary_categorical_features, sep = '\\n')"
   ]
  },
  {
   "cell_type": "markdown",
   "metadata": {},
   "source": [
    "Now we can fill in the gaps if they exist."
   ]
  },
  {
   "cell_type": "code",
   "execution_count": 4,
   "metadata": {},
   "outputs": [
    {
     "name": "stdout",
     "output_type": "stream",
     "text": [
      "There are no gaps\n"
     ]
    }
   ],
   "source": [
    "if (data.count(axis = 0).max() != data.count(axis = 0).min()):\n",
    "    data = data.fillna(data.median(axis = 0), axis = 0)\n",
    "    for f in categorical_features:\n",
    "        data[f] = data[f].fillna(data_description[f]['top'])\n",
    "    print('The gaps are filled in')\n",
    "else:\n",
    "    print('There are no gaps')"
   ]
  },
  {
   "cell_type": "markdown",
   "metadata": {},
   "source": [
    "## Normalization\n",
    "\n"
   ]
  },
  {
   "cell_type": "code",
   "execution_count": 5,
   "metadata": {},
   "outputs": [
    {
     "data": {
      "text/html": [
       "<div>\n",
       "<style scoped>\n",
       "    .dataframe tbody tr th:only-of-type {\n",
       "        vertical-align: middle;\n",
       "    }\n",
       "\n",
       "    .dataframe tbody tr th {\n",
       "        vertical-align: top;\n",
       "    }\n",
       "\n",
       "    .dataframe thead th {\n",
       "        text-align: right;\n",
       "    }\n",
       "</style>\n",
       "<table border=\"1\" class=\"dataframe\">\n",
       "  <thead>\n",
       "    <tr style=\"text-align: right;\">\n",
       "      <th></th>\n",
       "      <th>Sex</th>\n",
       "      <th>Feature_0</th>\n",
       "      <th>Feature_1</th>\n",
       "      <th>Feature_2</th>\n",
       "      <th>Feature_3</th>\n",
       "      <th>Feature_4</th>\n",
       "      <th>Feature_5</th>\n",
       "      <th>Feature_6</th>\n",
       "      <th>Feature_7</th>\n",
       "      <th>Feature_8</th>\n",
       "      <th>Feature_9</th>\n",
       "      <th>Class</th>\n",
       "    </tr>\n",
       "  </thead>\n",
       "  <tbody>\n",
       "    <tr>\n",
       "      <th>0</th>\n",
       "      <td>Male</td>\n",
       "      <td>-0.500881</td>\n",
       "      <td>-1.245468</td>\n",
       "      <td>-0.227868</td>\n",
       "      <td>1.664140</td>\n",
       "      <td>0.207128</td>\n",
       "      <td>1.650610</td>\n",
       "      <td>-0.830511</td>\n",
       "      <td>0.335683</td>\n",
       "      <td>-1.001513</td>\n",
       "      <td>-1.229600</td>\n",
       "      <td>hid</td>\n",
       "    </tr>\n",
       "    <tr>\n",
       "      <th>1</th>\n",
       "      <td>Male</td>\n",
       "      <td>-0.141843</td>\n",
       "      <td>-1.179100</td>\n",
       "      <td>-0.261578</td>\n",
       "      <td>1.118873</td>\n",
       "      <td>0.061176</td>\n",
       "      <td>2.157341</td>\n",
       "      <td>-0.776390</td>\n",
       "      <td>0.302541</td>\n",
       "      <td>-0.557779</td>\n",
       "      <td>-0.689852</td>\n",
       "      <td>hId</td>\n",
       "    </tr>\n",
       "    <tr>\n",
       "      <th>2</th>\n",
       "      <td>Male</td>\n",
       "      <td>1.247130</td>\n",
       "      <td>-0.840455</td>\n",
       "      <td>-1.500433</td>\n",
       "      <td>-0.485318</td>\n",
       "      <td>-0.603884</td>\n",
       "      <td>1.538003</td>\n",
       "      <td>-1.243996</td>\n",
       "      <td>0.592092</td>\n",
       "      <td>-0.887510</td>\n",
       "      <td>0.036987</td>\n",
       "      <td>hEd</td>\n",
       "    </tr>\n",
       "    <tr>\n",
       "      <th>3</th>\n",
       "      <td>Male</td>\n",
       "      <td>1.054953</td>\n",
       "      <td>-0.061912</td>\n",
       "      <td>-1.390874</td>\n",
       "      <td>0.653948</td>\n",
       "      <td>-1.124496</td>\n",
       "      <td>0.711668</td>\n",
       "      <td>-1.218018</td>\n",
       "      <td>-0.177136</td>\n",
       "      <td>0.371782</td>\n",
       "      <td>-1.198142</td>\n",
       "      <td>hAd</td>\n",
       "    </tr>\n",
       "    <tr>\n",
       "      <th>4</th>\n",
       "      <td>Male</td>\n",
       "      <td>0.697065</td>\n",
       "      <td>0.047850</td>\n",
       "      <td>-0.475077</td>\n",
       "      <td>0.719801</td>\n",
       "      <td>-1.997198</td>\n",
       "      <td>0.221497</td>\n",
       "      <td>0.862398</td>\n",
       "      <td>-0.848684</td>\n",
       "      <td>1.017213</td>\n",
       "      <td>-0.537530</td>\n",
       "      <td>hYd</td>\n",
       "    </tr>\n",
       "  </tbody>\n",
       "</table>\n",
       "</div>"
      ],
      "text/plain": [
       "    Sex  Feature_0  Feature_1  Feature_2  Feature_3  Feature_4  Feature_5  \\\n",
       "0  Male  -0.500881  -1.245468  -0.227868   1.664140   0.207128   1.650610   \n",
       "1  Male  -0.141843  -1.179100  -0.261578   1.118873   0.061176   2.157341   \n",
       "2  Male   1.247130  -0.840455  -1.500433  -0.485318  -0.603884   1.538003   \n",
       "3  Male   1.054953  -0.061912  -1.390874   0.653948  -1.124496   0.711668   \n",
       "4  Male   0.697065   0.047850  -0.475077   0.719801  -1.997198   0.221497   \n",
       "\n",
       "   Feature_6  Feature_7  Feature_8  Feature_9 Class  \n",
       "0  -0.830511   0.335683  -1.001513  -1.229600   hid  \n",
       "1  -0.776390   0.302541  -0.557779  -0.689852   hId  \n",
       "2  -1.243996   0.592092  -0.887510   0.036987   hEd  \n",
       "3  -1.218018  -0.177136   0.371782  -1.198142   hAd  \n",
       "4   0.862398  -0.848684   1.017213  -0.537530   hYd  "
      ]
     },
     "execution_count": 5,
     "metadata": {},
     "output_type": "execute_result"
    }
   ],
   "source": [
    "for f in numerical_features:\n",
    "    data[f] = (data[f] - data[f].mean()) / data[f].std()\n",
    "data.head()"
   ]
  },
  {
   "cell_type": "markdown",
   "metadata": {},
   "source": [
    "## Vectorization\n",
    "\n",
    "We can easily vectorize the binary features automatically. Let's choose the top value and assign `1` if our value is top and `0` if not."
   ]
  },
  {
   "cell_type": "code",
   "execution_count": 6,
   "metadata": {},
   "outputs": [],
   "source": [
    "for f in binary_categorical_features:\n",
    "    true_items = data[f] == data_description[f]['top']\n",
    "    false_items = np.logical_not(true_items)\n",
    "    data.loc[true_items, f] = 1\n",
    "    data.loc[false_items, f] = 0"
   ]
  },
  {
   "cell_type": "markdown",
   "metadata": {},
   "source": [
    "On this stage we should decade the method of vectorization for non-binary features. Let's clone the dataset and use two different methods:\n",
    "1. Naive method: let's map each value to a number.\n",
    "2. Smarter method: let's use [One-hot mapping](https://en.wikipedia.org/wiki/One-hot)."
   ]
  },
  {
   "cell_type": "code",
   "execution_count": 7,
   "metadata": {},
   "outputs": [
    {
     "data": {
      "text/html": [
       "<div>\n",
       "<style scoped>\n",
       "    .dataframe tbody tr th:only-of-type {\n",
       "        vertical-align: middle;\n",
       "    }\n",
       "\n",
       "    .dataframe tbody tr th {\n",
       "        vertical-align: top;\n",
       "    }\n",
       "\n",
       "    .dataframe thead th {\n",
       "        text-align: right;\n",
       "    }\n",
       "</style>\n",
       "<table border=\"1\" class=\"dataframe\">\n",
       "  <thead>\n",
       "    <tr style=\"text-align: right;\">\n",
       "      <th></th>\n",
       "      <th>Sex</th>\n",
       "      <th>Feature_0</th>\n",
       "      <th>Feature_1</th>\n",
       "      <th>Feature_2</th>\n",
       "      <th>Feature_3</th>\n",
       "      <th>Feature_4</th>\n",
       "      <th>Feature_5</th>\n",
       "      <th>Feature_6</th>\n",
       "      <th>Feature_7</th>\n",
       "      <th>Feature_8</th>\n",
       "      <th>Feature_9</th>\n",
       "      <th>Class</th>\n",
       "    </tr>\n",
       "  </thead>\n",
       "  <tbody>\n",
       "    <tr>\n",
       "      <th>0</th>\n",
       "      <td>1</td>\n",
       "      <td>-0.500881</td>\n",
       "      <td>-1.245468</td>\n",
       "      <td>-0.227868</td>\n",
       "      <td>1.664140</td>\n",
       "      <td>0.207128</td>\n",
       "      <td>1.650610</td>\n",
       "      <td>-0.830511</td>\n",
       "      <td>0.335683</td>\n",
       "      <td>-1.001513</td>\n",
       "      <td>-1.229600</td>\n",
       "      <td>0</td>\n",
       "    </tr>\n",
       "    <tr>\n",
       "      <th>1</th>\n",
       "      <td>1</td>\n",
       "      <td>-0.141843</td>\n",
       "      <td>-1.179100</td>\n",
       "      <td>-0.261578</td>\n",
       "      <td>1.118873</td>\n",
       "      <td>0.061176</td>\n",
       "      <td>2.157341</td>\n",
       "      <td>-0.776390</td>\n",
       "      <td>0.302541</td>\n",
       "      <td>-0.557779</td>\n",
       "      <td>-0.689852</td>\n",
       "      <td>1</td>\n",
       "    </tr>\n",
       "    <tr>\n",
       "      <th>2</th>\n",
       "      <td>1</td>\n",
       "      <td>1.247130</td>\n",
       "      <td>-0.840455</td>\n",
       "      <td>-1.500433</td>\n",
       "      <td>-0.485318</td>\n",
       "      <td>-0.603884</td>\n",
       "      <td>1.538003</td>\n",
       "      <td>-1.243996</td>\n",
       "      <td>0.592092</td>\n",
       "      <td>-0.887510</td>\n",
       "      <td>0.036987</td>\n",
       "      <td>2</td>\n",
       "    </tr>\n",
       "    <tr>\n",
       "      <th>3</th>\n",
       "      <td>1</td>\n",
       "      <td>1.054953</td>\n",
       "      <td>-0.061912</td>\n",
       "      <td>-1.390874</td>\n",
       "      <td>0.653948</td>\n",
       "      <td>-1.124496</td>\n",
       "      <td>0.711668</td>\n",
       "      <td>-1.218018</td>\n",
       "      <td>-0.177136</td>\n",
       "      <td>0.371782</td>\n",
       "      <td>-1.198142</td>\n",
       "      <td>3</td>\n",
       "    </tr>\n",
       "    <tr>\n",
       "      <th>4</th>\n",
       "      <td>1</td>\n",
       "      <td>0.697065</td>\n",
       "      <td>0.047850</td>\n",
       "      <td>-0.475077</td>\n",
       "      <td>0.719801</td>\n",
       "      <td>-1.997198</td>\n",
       "      <td>0.221497</td>\n",
       "      <td>0.862398</td>\n",
       "      <td>-0.848684</td>\n",
       "      <td>1.017213</td>\n",
       "      <td>-0.537530</td>\n",
       "      <td>4</td>\n",
       "    </tr>\n",
       "  </tbody>\n",
       "</table>\n",
       "</div>"
      ],
      "text/plain": [
       "  Sex  Feature_0  Feature_1  Feature_2  Feature_3  Feature_4  Feature_5  \\\n",
       "0   1  -0.500881  -1.245468  -0.227868   1.664140   0.207128   1.650610   \n",
       "1   1  -0.141843  -1.179100  -0.261578   1.118873   0.061176   2.157341   \n",
       "2   1   1.247130  -0.840455  -1.500433  -0.485318  -0.603884   1.538003   \n",
       "3   1   1.054953  -0.061912  -1.390874   0.653948  -1.124496   0.711668   \n",
       "4   1   0.697065   0.047850  -0.475077   0.719801  -1.997198   0.221497   \n",
       "\n",
       "   Feature_6  Feature_7  Feature_8  Feature_9  Class  \n",
       "0  -0.830511   0.335683  -1.001513  -1.229600      0  \n",
       "1  -0.776390   0.302541  -0.557779  -0.689852      1  \n",
       "2  -1.243996   0.592092  -0.887510   0.036987      2  \n",
       "3  -1.218018  -0.177136   0.371782  -1.198142      3  \n",
       "4   0.862398  -0.848684   1.017213  -0.537530      4  "
      ]
     },
     "execution_count": 7,
     "metadata": {},
     "output_type": "execute_result"
    }
   ],
   "source": [
    "data_naive = data.copy()\n",
    "\n",
    "mapping_naive = dict()\n",
    "for f in non_binary_categorical_features:\n",
    "    for i, k in enumerate(data_naive[f].unique()):\n",
    "        if not k in mapping_naive.keys():\n",
    "            mapping_naive[k] = i\n",
    "    data_naive[f] = data_naive[f].map(mapping_naive)\n",
    "data_naive.head()"
   ]
  },
  {
   "cell_type": "code",
   "execution_count": 8,
   "metadata": {},
   "outputs": [
    {
     "data": {
      "text/html": [
       "<div>\n",
       "<style scoped>\n",
       "    .dataframe tbody tr th:only-of-type {\n",
       "        vertical-align: middle;\n",
       "    }\n",
       "\n",
       "    .dataframe tbody tr th {\n",
       "        vertical-align: top;\n",
       "    }\n",
       "\n",
       "    .dataframe thead th {\n",
       "        text-align: right;\n",
       "    }\n",
       "</style>\n",
       "<table border=\"1\" class=\"dataframe\">\n",
       "  <thead>\n",
       "    <tr style=\"text-align: right;\">\n",
       "      <th></th>\n",
       "      <th>Sex</th>\n",
       "      <th>Feature_0</th>\n",
       "      <th>Feature_1</th>\n",
       "      <th>Feature_2</th>\n",
       "      <th>Feature_3</th>\n",
       "      <th>Feature_4</th>\n",
       "      <th>Feature_5</th>\n",
       "      <th>Feature_6</th>\n",
       "      <th>Feature_7</th>\n",
       "      <th>Feature_8</th>\n",
       "      <th>...</th>\n",
       "      <th>hEd</th>\n",
       "      <th>hId</th>\n",
       "      <th>hOd</th>\n",
       "      <th>hUd</th>\n",
       "      <th>hYd</th>\n",
       "      <th>had</th>\n",
       "      <th>hed</th>\n",
       "      <th>hid</th>\n",
       "      <th>hod</th>\n",
       "      <th>hud</th>\n",
       "    </tr>\n",
       "  </thead>\n",
       "  <tbody>\n",
       "    <tr>\n",
       "      <th>0</th>\n",
       "      <td>1</td>\n",
       "      <td>-0.500881</td>\n",
       "      <td>-1.245468</td>\n",
       "      <td>-0.227868</td>\n",
       "      <td>1.664140</td>\n",
       "      <td>0.207128</td>\n",
       "      <td>1.650610</td>\n",
       "      <td>-0.830511</td>\n",
       "      <td>0.335683</td>\n",
       "      <td>-1.001513</td>\n",
       "      <td>...</td>\n",
       "      <td>0</td>\n",
       "      <td>0</td>\n",
       "      <td>0</td>\n",
       "      <td>0</td>\n",
       "      <td>0</td>\n",
       "      <td>0</td>\n",
       "      <td>0</td>\n",
       "      <td>1</td>\n",
       "      <td>0</td>\n",
       "      <td>0</td>\n",
       "    </tr>\n",
       "    <tr>\n",
       "      <th>1</th>\n",
       "      <td>1</td>\n",
       "      <td>-0.141843</td>\n",
       "      <td>-1.179100</td>\n",
       "      <td>-0.261578</td>\n",
       "      <td>1.118873</td>\n",
       "      <td>0.061176</td>\n",
       "      <td>2.157341</td>\n",
       "      <td>-0.776390</td>\n",
       "      <td>0.302541</td>\n",
       "      <td>-0.557779</td>\n",
       "      <td>...</td>\n",
       "      <td>0</td>\n",
       "      <td>1</td>\n",
       "      <td>0</td>\n",
       "      <td>0</td>\n",
       "      <td>0</td>\n",
       "      <td>0</td>\n",
       "      <td>0</td>\n",
       "      <td>0</td>\n",
       "      <td>0</td>\n",
       "      <td>0</td>\n",
       "    </tr>\n",
       "    <tr>\n",
       "      <th>2</th>\n",
       "      <td>1</td>\n",
       "      <td>1.247130</td>\n",
       "      <td>-0.840455</td>\n",
       "      <td>-1.500433</td>\n",
       "      <td>-0.485318</td>\n",
       "      <td>-0.603884</td>\n",
       "      <td>1.538003</td>\n",
       "      <td>-1.243996</td>\n",
       "      <td>0.592092</td>\n",
       "      <td>-0.887510</td>\n",
       "      <td>...</td>\n",
       "      <td>1</td>\n",
       "      <td>0</td>\n",
       "      <td>0</td>\n",
       "      <td>0</td>\n",
       "      <td>0</td>\n",
       "      <td>0</td>\n",
       "      <td>0</td>\n",
       "      <td>0</td>\n",
       "      <td>0</td>\n",
       "      <td>0</td>\n",
       "    </tr>\n",
       "    <tr>\n",
       "      <th>3</th>\n",
       "      <td>1</td>\n",
       "      <td>1.054953</td>\n",
       "      <td>-0.061912</td>\n",
       "      <td>-1.390874</td>\n",
       "      <td>0.653948</td>\n",
       "      <td>-1.124496</td>\n",
       "      <td>0.711668</td>\n",
       "      <td>-1.218018</td>\n",
       "      <td>-0.177136</td>\n",
       "      <td>0.371782</td>\n",
       "      <td>...</td>\n",
       "      <td>0</td>\n",
       "      <td>0</td>\n",
       "      <td>0</td>\n",
       "      <td>0</td>\n",
       "      <td>0</td>\n",
       "      <td>0</td>\n",
       "      <td>0</td>\n",
       "      <td>0</td>\n",
       "      <td>0</td>\n",
       "      <td>0</td>\n",
       "    </tr>\n",
       "    <tr>\n",
       "      <th>4</th>\n",
       "      <td>1</td>\n",
       "      <td>0.697065</td>\n",
       "      <td>0.047850</td>\n",
       "      <td>-0.475077</td>\n",
       "      <td>0.719801</td>\n",
       "      <td>-1.997198</td>\n",
       "      <td>0.221497</td>\n",
       "      <td>0.862398</td>\n",
       "      <td>-0.848684</td>\n",
       "      <td>1.017213</td>\n",
       "      <td>...</td>\n",
       "      <td>0</td>\n",
       "      <td>0</td>\n",
       "      <td>0</td>\n",
       "      <td>0</td>\n",
       "      <td>1</td>\n",
       "      <td>0</td>\n",
       "      <td>0</td>\n",
       "      <td>0</td>\n",
       "      <td>0</td>\n",
       "      <td>0</td>\n",
       "    </tr>\n",
       "  </tbody>\n",
       "</table>\n",
       "<p>5 rows × 22 columns</p>\n",
       "</div>"
      ],
      "text/plain": [
       "  Sex  Feature_0  Feature_1  Feature_2  Feature_3  Feature_4  Feature_5  \\\n",
       "0   1  -0.500881  -1.245468  -0.227868   1.664140   0.207128   1.650610   \n",
       "1   1  -0.141843  -1.179100  -0.261578   1.118873   0.061176   2.157341   \n",
       "2   1   1.247130  -0.840455  -1.500433  -0.485318  -0.603884   1.538003   \n",
       "3   1   1.054953  -0.061912  -1.390874   0.653948  -1.124496   0.711668   \n",
       "4   1   0.697065   0.047850  -0.475077   0.719801  -1.997198   0.221497   \n",
       "\n",
       "   Feature_6  Feature_7  Feature_8  ...  hEd  hId  hOd  hUd  hYd  had  hed  \\\n",
       "0  -0.830511   0.335683  -1.001513  ...    0    0    0    0    0    0    0   \n",
       "1  -0.776390   0.302541  -0.557779  ...    0    1    0    0    0    0    0   \n",
       "2  -1.243996   0.592092  -0.887510  ...    1    0    0    0    0    0    0   \n",
       "3  -1.218018  -0.177136   0.371782  ...    0    0    0    0    0    0    0   \n",
       "4   0.862398  -0.848684   1.017213  ...    0    0    0    0    1    0    0   \n",
       "\n",
       "   hid  hod  hud  \n",
       "0    1    0    0  \n",
       "1    0    0    0  \n",
       "2    0    0    0  \n",
       "3    0    0    0  \n",
       "4    0    0    0  \n",
       "\n",
       "[5 rows x 22 columns]"
      ]
     },
     "execution_count": 8,
     "metadata": {},
     "output_type": "execute_result"
    }
   ],
   "source": [
    "data_smarter = data.copy()\n",
    "\n",
    "for f in non_binary_categorical_features:\n",
    "    data_smarter = pd.concat([data_smarter.drop(f, axis = 1), pd.get_dummies(data_smarter[f])], axis = 1)\n",
    "data_smarter.head()"
   ]
  },
  {
   "cell_type": "markdown",
   "metadata": {},
   "source": [
    "## Data decomposition\n",
    "\n",
    "Unfortunately, our algorithm has problems with very big datasets. We have to choose only one third of the initial data randomly."
   ]
  },
  {
   "cell_type": "code",
   "execution_count": 9,
   "metadata": {},
   "outputs": [],
   "source": [
    "def compress_data(data):\n",
    "    n = len(data.index)\n",
    "    return data.drop(np.random.choice(data.index, int(n * 1 / 3), replace = False))\n",
    "\n",
    "data_naive = compress_data(data_naive)\n",
    "data_smarter = compress_data(data_smarter)"
   ]
  },
  {
   "cell_type": "markdown",
   "metadata": {},
   "source": [
    "And now we need choose features which are related to the objects and which are target."
   ]
  },
  {
   "cell_type": "code",
   "execution_count": 10,
   "metadata": {},
   "outputs": [],
   "source": [
    "x_naive = data_naive.drop('Class', axis = 1).values.tolist()\n",
    "y_naive = data_naive.loc[:, ['Class']].values.tolist()\n",
    "\n",
    "x_smarter = data_smarter.drop(data['Class'].unique(), axis = 1).values.tolist()\n",
    "y_smarter = data_smarter[data['Class'].unique()].values.tolist()"
   ]
  },
  {
   "cell_type": "markdown",
   "metadata": {},
   "source": [
    "# Classification\n",
    "\n",
    "Lets define our parameters which we will look over."
   ]
  },
  {
   "cell_type": "code",
   "execution_count": 11,
   "metadata": {},
   "outputs": [],
   "source": [
    "metrics = {\n",
    "    \"euclidean\":    lambda x, y: sum([abs(x[i] - y[i]) ** 2 for i in range(len(x))]) ** (1 / 2),\n",
    "    \"manhattan\":    lambda x, y: sum([abs(x[i] - y[i]) for i in range(len(x))]),\n",
    "    \"chebyshev\":    lambda x, y: max([abs(x[i] - y[i]) for i in range(len(x))])\n",
    "}\n",
    "\n",
    "kernels = {\n",
    "    \"uniform\":      lambda x: 0 if abs(x) >= 1 else 1 / 2,\n",
    "    \"triangular\":   lambda x: 0 if abs(x) >= 1 else 1 - abs(x),\n",
    "    \"epanechnikov\": lambda x: 0 if abs(x) >= 1 else 3 / 4 * (1 - x ** 2),\n",
    "    \"quartic\":      lambda x: 0 if abs(x) >= 1 else 15 / 16 * (1 - x ** 2) ** 2,\n",
    "    \"triweight\":    lambda x: 0 if abs(x) >= 1 else 35 / 32 * (1 - x ** 2) ** 3,\n",
    "    \"tricube\":      lambda x: 0 if abs(x) >= 1 else 70 / 81 * (1 - abs(x) ** 3) ** 3,\n",
    "    \"cosine\":       lambda x: 0 if abs(x) >= 1 else math.pi / 4 * math.cos(math.pi / 2 * x),\n",
    "    \"gaussian\":     lambda x: 1 / (math.sqrt(2 * math.pi)) * math.e ** (-0.5 * x ** 2),\n",
    "    \"logistic\":     lambda x: 1 / (math.e ** x + 2 + math.e ** (-x)),\n",
    "    \"sigmoid\":      lambda x: 1 / (math.e ** x + math.e ** (-x)) * 2 / math.pi\n",
    "}\n",
    "\n",
    "windows = {\n",
    "    \"fixed\":        lambda distances, h: h,\n",
    "    \"variable\":     lambda distances, h: sorted(distances)[h]\n",
    "}\n",
    "\n",
    "class Params:\n",
    "    def __init__(self, metric, kernel, window, h):\n",
    "        self.metric = metric\n",
    "        self.kernel = kernel\n",
    "        self.window = window\n",
    "        self.h = h\n",
    "    \n",
    "    def __str__(self):\n",
    "        return \"[\" + \", \".join([self.metric, self.kernel, self.window, str(self.h)]) + \"]\""
   ]
  },
  {
   "cell_type": "markdown",
   "metadata": {},
   "source": [
    "Our predicting function is based on [KNN algorithm](https://en.wikipedia.org/wiki/K-nearest_neighbors_algorithm). `x` and `y` are features of the dataset (object and target), `params` are defined in previous cell and `q` is index of row which is a query for the current prediction."
   ]
  },
  {
   "cell_type": "code",
   "execution_count": 12,
   "metadata": {},
   "outputs": [],
   "source": [
    "def predict(x, y, params, q):\n",
    "    n, m = len(y), len(y[0])\n",
    "    \n",
    "    weight_sum = 0\n",
    "    result = [0 for j in range(m)]\n",
    "    y_sum = [sum([y[i][j] for i in range(n)]) for j in range(m)]\n",
    "    \n",
    "    distances = [metrics[params.metric](x[i], x[q]) for i in range(n) if i != q]\n",
    "    w = windows[params.window](distances, params.h)\n",
    "\n",
    "    for i, distance in enumerate(distances):\n",
    "        weight = kernels[params.kernel](distance / w if w != 0 else 0) if distance == 0 or w != 0 else 0\n",
    "        weight_sum += weight\n",
    "        for j in range(m):\n",
    "            result[j] += weight * y[i if i < q else i + 1][j]\n",
    "    for j in range(m):\n",
    "        if weight_sum == 0:\n",
    "            result[j] = (y_sum[j] - y[q][j]) / (n - 1)\n",
    "        else:\n",
    "            result[j] /= weight_sum\n",
    "    return result"
   ]
  },
  {
   "cell_type": "markdown",
   "metadata": {},
   "source": [
    "For the algorithm assessment we will use [F1-score](https://en.wikipedia.org/wiki/F1_score). More specifically, we will use macro- (or, optionally, micro-) version of F1-score."
   ]
  },
  {
   "cell_type": "code",
   "execution_count": 13,
   "metadata": {},
   "outputs": [],
   "source": [
    "def f1_score(cn, mode = \"macro\"):\n",
    "    k, s = len(cn), sum(map(sum, cn))\n",
    "    tp, fp, fn = [0 for i in range(k)], [0 for i in range(k)], [0 for i in range(k)]\n",
    "    for i in range(k):\n",
    "        tp[i] += cn[i][i]\n",
    "        for j in range(k):\n",
    "            if i != j:\n",
    "                fp[i] += cn[i][j]\n",
    "                fn[j] += cn[i][j]\n",
    "    precision = [0 if tp[i] + fp[i] == 0 else tp[i] / (tp[i] + fp[i]) for i in range(k)]\n",
    "    recall = [0 if tp[i] + fn[i] == 0 else tp[i] / (tp[i] + fn[i]) for i in range(k)]\n",
    "    \n",
    "    if mode == \"macro\":\n",
    "        precision_weighted = sum([(tp[i] + fn[i]) * precision[i] for i in range(k)]) / s\n",
    "        recall_weighted = sum([(tp[i] + fn[i]) * recall[i] for i in range(k)]) / s\n",
    "        sum_weighted = precision_weighted + recall_weighted\n",
    "        return 0 if sum_weighted == 0 else 2 * recall_weighted * precision_weighted / sum_weighted\n",
    "    elif mode == \"micro\":\n",
    "        f1 = [0 if tp[i] == 0 else 2 * recall[i] * precision[i] / (recall[i] + precision[i]) for i in range(k)]\n",
    "        return sum([(tp[i] + fn[i]) * f1[i] for i in range(k)]) / s"
   ]
  },
  {
   "cell_type": "markdown",
   "metadata": {},
   "source": [
    "Our [leave-one-out cross validation](https://en.wikipedia.org/wiki/Cross-validation_(statistics)#Leave-one-out_cross-validation) will generate [confusing matrix](https://en.wikipedia.org/wiki/Confusion_matrix), based on the prediction results, and calculate F1 score for the matrix."
   ]
  },
  {
   "cell_type": "code",
   "execution_count": 14,
   "metadata": {},
   "outputs": [],
   "source": [
    "def count_classes(y):\n",
    "    return len(np.unique(y)) if len(y[0]) == 1 else len(y[0])\n",
    "\n",
    "def correct_classes(u):\n",
    "    return int(np.round(u)) if len(u) == 1 else np.argmax(u)\n",
    "\n",
    "def leave_one_out(x, y, params):\n",
    "    n, k = len(x), count_classes(y)\n",
    "    matrix = [[0 for j in range(k)] for i in range(k)]\n",
    "    for q in range(n):\n",
    "        y_real = correct_classes(y[q])\n",
    "        y_predicted = correct_classes(predict(x, y, params, q))\n",
    "        matrix[y_predicted][y_real] += 1\n",
    "    return matrix, f1_score(matrix)"
   ]
  },
  {
   "cell_type": "markdown",
   "metadata": {},
   "source": [
    "And finally, we should look over our parameters for guessing best ones (based on F1 score statistics)."
   ]
  },
  {
   "cell_type": "code",
   "execution_count": 15,
   "metadata": {
    "scrolled": false
   },
   "outputs": [],
   "source": [
    "def guess_parameters(x, y):    \n",
    "    best_f1 = 0\n",
    "    for metric in metrics.keys():\n",
    "        for kernel in kernels.keys():\n",
    "            for window in windows.keys():\n",
    "                for h in range(1, 4):\n",
    "                    params = Params(metric, kernel, window, h)\n",
    "                    matrix, f1 = leave_one_out(x, y, params)\n",
    "                    if f1 >= best_f1:\n",
    "                        best_f1 = f1\n",
    "                        best_params = params\n",
    "    return best_params"
   ]
  },
  {
   "cell_type": "markdown",
   "metadata": {},
   "source": [
    "# Analyzing\n",
    "\n",
    "The external function `analyze` will find best parameters and reproduce the algorithm with them. Also, it's useful to have graph for F1 score from `h` parameter."
   ]
  },
  {
   "cell_type": "code",
   "execution_count": 16,
   "metadata": {
    "scrolled": false
   },
   "outputs": [],
   "source": [
    "def analyze(x, y):\n",
    "    best_params = guess_parameters(x, y)\n",
    "    matrix, f1 = leave_one_out(x, y, best_params)\n",
    "    print(\"best params:\", best_params)\n",
    "    print(\"best f1-score:\", f1)\n",
    "    print(pd.DataFrame(matrix))\n",
    "    print()\n",
    "    \n",
    "    scores = []\n",
    "    for h in range(1, 13):\n",
    "        params = Params(best_params.metric, best_params.kernel, best_params.window, h)\n",
    "        matrix, score = leave_one_out(x, y, params)\n",
    "        scores.append(score)\n",
    "    plt.plot(range(1, 13), scores)\n",
    "    plt.xlabel(\"h\")\n",
    "    plt.ylabel(\"f1-score\")\n",
    "    plt.show()"
   ]
  },
  {
   "cell_type": "markdown",
   "metadata": {},
   "source": [
    "## Analyzing naive dataset"
   ]
  },
  {
   "cell_type": "code",
   "execution_count": 17,
   "metadata": {},
   "outputs": [
    {
     "name": "stdout",
     "output_type": "stream",
     "text": [
      "best params: [manhattan, cosine, variable, 1]\n",
      "best f1-score: 0.9687249767928594\n",
      "     0   1   2   3   4   5   6   7   8   9  10\n",
      "0   62   0   0   0   0   0   0   0   0   0   0\n",
      "1    1  67   0   0   0   0   0   0   0   0   0\n",
      "2    0   0  55   0   0   0   0   0   0   0   0\n",
      "3    0   0   0  53   0   0   0   0   0   0   0\n",
      "4    0   0   0   0  56   0   3   0   1   0   0\n",
      "5    0   0   0   2   2  53   0   0   0   0   2\n",
      "6    0   0   0   0   0   0  66   2   0   0   0\n",
      "7    0   0   0   0   0   0   0  55   3   0   0\n",
      "8    0   0   0   0   0   0   0   0  61   0   0\n",
      "9    0   0   0   0   0   0   0   0   0  54   0\n",
      "10   0   0   0   0   0   3   0   0   1   1  57\n",
      "\n"
     ]
    },
    {
     "data": {
      "image/png": "[encoded data removed]",
      "text/plain": [
       "<Figure size 432x288 with 1 Axes>"
      ]
     },
     "metadata": {
      "needs_background": "light"
     },
     "output_type": "display_data"
    }
   ],
   "source": [
    "analyze(x_naive, y_naive)"
   ]
  },
  {
   "cell_type": "markdown",
   "metadata": {},
   "source": [
    "## Analyzing smarter dataset"
   ]
  },
  {
   "cell_type": "code",
   "execution_count": 18,
   "metadata": {},
   "outputs": [
    {
     "name": "stdout",
     "output_type": "stream",
     "text": [
      "best params: [manhattan, cosine, variable, 3]\n",
      "best f1-score: 0.9744151082066352\n",
      "     0   1   2   3   4   5   6   7   8   9  10\n",
      "0   58   0   0   0   0   0   0   0   0   0   0\n",
      "1    1  54   0   0   0   0   0   0   0   0   0\n",
      "2    0   2  55   0   0   0   0   0   0   0   1\n",
      "3    0   0   0  58   0   0   0   0   0   0   0\n",
      "4    0   0   0   0  56   0   2   0   0   0   0\n",
      "5    0   0   0   0   1  65   0   0   1   0   1\n",
      "6    0   0   0   0   1   0  63   0   0   0   0\n",
      "7    0   0   0   0   0   0   0  57   0   0   0\n",
      "8    0   0   0   0   0   0   0   2  53   0   1\n",
      "9    0   0   0   0   0   0   0   0   0  64   0\n",
      "10   0   0   0   0   0   2   0   0   2   0  60\n",
      "\n"
     ]
    },
    {
     "data": {
      "image/png": "[encoded data removed]",
      "text/plain": [
       "<Figure size 432x288 with 1 Axes>"
      ]
     },
     "metadata": {
      "needs_background": "light"
     },
     "output_type": "display_data"
    }
   ],
   "source": [
    "analyze(x_smarter, y_smarter)"
   ]
  }
 ],
 "metadata": {
  "kernelspec": {
   "display_name": "Python 3",
   "language": "python",
   "name": "python3"
  },
  "language_info": {
   "codemirror_mode": {
    "name": "ipython",
    "version": 3
   },
   "file_extension": ".py",
   "mimetype": "text/x-python",
   "name": "python",
   "nbconvert_exporter": "python",
   "pygments_lexer": "ipython3",
   "version": "3.8.2"
  }
 },
 "nbformat": 4,
 "nbformat_minor": 4
}
